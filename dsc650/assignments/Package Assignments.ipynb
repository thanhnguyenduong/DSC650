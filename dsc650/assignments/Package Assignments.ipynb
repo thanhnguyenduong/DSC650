{
 "cells": [
  {
   "cell_type": "code",
   "execution_count": 25,
   "metadata": {},
   "outputs": [],
   "source": [
    "import os\n",
    "from pathlib import Path\n",
    "import zipfile\n",
    "import shutil\n",
    "\n",
    "first_name = 'John' # Put your first name here\n",
    "last_name = 'Doe' # Put your last name here\n",
    "\n",
    "first_name = first_name.replace(' ', '-') # Replace spaces with -\n",
    "last_name = last_name.replace(' ', '-') # Replace spaces with -\n",
    "\n",
    "current_dir = Path(os.getcwd()).absolute()\n",
    "completed_dir = current_dir.joinpath('completed')\n",
    "completed_dir.mkdir(parents=True, exist_ok=True)\n",
    "\n",
    "def compress_assignment_dir(assignment_dir):\n",
    "    zip_file_name = '{}_{}{}'.format(\n",
    "        assignment_dir.relative_to(current_dir),\n",
    "        last_name,\n",
    "        first_name\n",
    "    )\n",
    "    zip_file_path = completed_dir.joinpath(zip_file_name)\n",
    "    shutil.make_archive(zip_file_path, 'zip', assignment_dir)"
   ]
  },
  {
   "cell_type": "markdown",
   "metadata": {},
   "source": [
    "## Create Archive for Single Assignment\n",
    "\n",
    "Overwrites existing output if exists"
   ]
  },
  {
   "cell_type": "code",
   "execution_count": 22,
   "metadata": {},
   "outputs": [],
   "source": [
    "current_assignment_num = 2\n",
    "current_assignment_dir = current_dir.joinpath('assignment{:02d}'.format(current_assignment_num))\n",
    "compress_assignment_dir(current_assignment_dir)"
   ]
  },
  {
   "cell_type": "markdown",
   "metadata": {},
   "source": [
    "## Create Archives for All Assignments"
   ]
  },
  {
   "cell_type": "code",
   "execution_count": 26,
   "metadata": {},
   "outputs": [],
   "source": [
    "assignment_dirs = sorted([\n",
    "    Path(entry.path) \n",
    "    for entry in os.scandir(current_dir)\n",
    "    if entry.is_dir() and entry.name.startswith('assignment')\n",
    "])\n",
    "\n",
    "\n",
    "for assignment_dir in assignment_dirs:\n",
    "    compress_assignment_dir(assignment_dir)"
   ]
  }
 ],
 "metadata": {
  "kernelspec": {
   "display_name": "Python 3",
   "language": "python",
   "name": "python3"
  },
  "language_info": {
   "codemirror_mode": {
    "name": "ipython",
    "version": 3
   },
   "file_extension": ".py",
   "mimetype": "text/x-python",
   "name": "python",
   "nbconvert_exporter": "python",
   "pygments_lexer": "ipython3",
   "version": "3.8.3"
  }
 },
 "nbformat": 4,
 "nbformat_minor": 4
}
